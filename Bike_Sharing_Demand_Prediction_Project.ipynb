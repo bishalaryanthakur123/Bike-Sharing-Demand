{
 "cells": [
  {
   "cell_type": "markdown",
   "id": "57908293",
   "metadata": {},
   "source": [
    "# Bike Sharing Demand "
   ]
  },
  {
   "cell_type": "code",
   "execution_count": null,
   "id": "ab7eae50",
   "metadata": {},
   "outputs": [],
   "source": []
  },
  {
   "cell_type": "code",
   "execution_count": null,
   "id": "bfd7ff00",
   "metadata": {},
   "outputs": [],
   "source": []
  },
  {
   "cell_type": "code",
   "execution_count": null,
   "id": "8e04cfd0",
   "metadata": {},
   "outputs": [],
   "source": []
  },
  {
   "cell_type": "markdown",
   "id": "35bb6955",
   "metadata": {},
   "source": [
    "## Descriptive Statistics"
   ]
  },
  {
   "cell_type": "markdown",
   "id": "35472738",
   "metadata": {},
   "source": [
    "### Let's import the necessary packages\n"
   ]
  },
  {
   "cell_type": "code",
   "execution_count": 1,
   "id": "679a8a68",
   "metadata": {
    "ExecuteTime": {
     "end_time": "2022-05-07T22:52:31.835140Z",
     "start_time": "2022-05-07T22:52:23.614100Z"
    }
   },
   "outputs": [],
   "source": [
    "import pandas as pd\n",
    "import pickle\n",
    "import numpy as np\n",
    "import re\n",
    "from sklearn import linear_model\n",
    "\n",
    "\n",
    "import seaborn as sns\n",
    "import matplotlib.pyplot as plt\n",
    "\n",
    "\n",
    "from sklearn.ensemble import RandomForestRegressor\n",
    "from sklearn import linear_model\n",
    "from sklearn import ensemble \n",
    "from sklearn.metrics import mean_squared_error\n",
    "from sklearn.ensemble import BaggingRegressor\n",
    "\n",
    "\n",
    "from sklearn.ensemble import RandomForestRegressor\n",
    "from sklearn.model_selection import KFold\n",
    "import xgboost as xgb\n",
    "from sklearn.model_selection import train_test_split"
   ]
  },
  {
   "cell_type": "markdown",
   "id": "8f7ffe1a",
   "metadata": {},
   "source": [
    "### Now let's have a look at the data-set"
   ]
  },
  {
   "cell_type": "code",
   "execution_count": 2,
   "id": "dc82cdac",
   "metadata": {
    "ExecuteTime": {
     "end_time": "2022-05-07T22:52:31.928486Z",
     "start_time": "2022-05-07T22:52:31.836135Z"
    }
   },
   "outputs": [
    {
     "data": {
      "text/html": [
       "<div>\n",
       "<style scoped>\n",
       "    .dataframe tbody tr th:only-of-type {\n",
       "        vertical-align: middle;\n",
       "    }\n",
       "\n",
       "    .dataframe tbody tr th {\n",
       "        vertical-align: top;\n",
       "    }\n",
       "\n",
       "    .dataframe thead th {\n",
       "        text-align: right;\n",
       "    }\n",
       "</style>\n",
       "<table border=\"1\" class=\"dataframe\">\n",
       "  <thead>\n",
       "    <tr style=\"text-align: right;\">\n",
       "      <th></th>\n",
       "      <th>datetime</th>\n",
       "      <th>season</th>\n",
       "      <th>holiday</th>\n",
       "      <th>workingday</th>\n",
       "      <th>weather</th>\n",
       "      <th>temp</th>\n",
       "      <th>atemp</th>\n",
       "      <th>humidity</th>\n",
       "      <th>windspeed</th>\n",
       "      <th>casual</th>\n",
       "      <th>registered</th>\n",
       "      <th>count</th>\n",
       "    </tr>\n",
       "  </thead>\n",
       "  <tbody>\n",
       "    <tr>\n",
       "      <th>0</th>\n",
       "      <td>2011-01-01 00:00:00</td>\n",
       "      <td>1</td>\n",
       "      <td>0</td>\n",
       "      <td>0</td>\n",
       "      <td>1</td>\n",
       "      <td>9.84</td>\n",
       "      <td>14.395</td>\n",
       "      <td>81</td>\n",
       "      <td>0.0</td>\n",
       "      <td>3</td>\n",
       "      <td>13</td>\n",
       "      <td>16</td>\n",
       "    </tr>\n",
       "    <tr>\n",
       "      <th>1</th>\n",
       "      <td>2011-01-01 01:00:00</td>\n",
       "      <td>1</td>\n",
       "      <td>0</td>\n",
       "      <td>0</td>\n",
       "      <td>1</td>\n",
       "      <td>9.02</td>\n",
       "      <td>13.635</td>\n",
       "      <td>80</td>\n",
       "      <td>0.0</td>\n",
       "      <td>8</td>\n",
       "      <td>32</td>\n",
       "      <td>40</td>\n",
       "    </tr>\n",
       "    <tr>\n",
       "      <th>2</th>\n",
       "      <td>2011-01-01 02:00:00</td>\n",
       "      <td>1</td>\n",
       "      <td>0</td>\n",
       "      <td>0</td>\n",
       "      <td>1</td>\n",
       "      <td>9.02</td>\n",
       "      <td>13.635</td>\n",
       "      <td>80</td>\n",
       "      <td>0.0</td>\n",
       "      <td>5</td>\n",
       "      <td>27</td>\n",
       "      <td>32</td>\n",
       "    </tr>\n",
       "    <tr>\n",
       "      <th>3</th>\n",
       "      <td>2011-01-01 03:00:00</td>\n",
       "      <td>1</td>\n",
       "      <td>0</td>\n",
       "      <td>0</td>\n",
       "      <td>1</td>\n",
       "      <td>9.84</td>\n",
       "      <td>14.395</td>\n",
       "      <td>75</td>\n",
       "      <td>0.0</td>\n",
       "      <td>3</td>\n",
       "      <td>10</td>\n",
       "      <td>13</td>\n",
       "    </tr>\n",
       "    <tr>\n",
       "      <th>4</th>\n",
       "      <td>2011-01-01 04:00:00</td>\n",
       "      <td>1</td>\n",
       "      <td>0</td>\n",
       "      <td>0</td>\n",
       "      <td>1</td>\n",
       "      <td>9.84</td>\n",
       "      <td>14.395</td>\n",
       "      <td>75</td>\n",
       "      <td>0.0</td>\n",
       "      <td>0</td>\n",
       "      <td>1</td>\n",
       "      <td>1</td>\n",
       "    </tr>\n",
       "  </tbody>\n",
       "</table>\n",
       "</div>"
      ],
      "text/plain": [
       "             datetime  season  holiday  workingday  weather  temp   atemp  \\\n",
       "0 2011-01-01 00:00:00       1        0           0        1  9.84  14.395   \n",
       "1 2011-01-01 01:00:00       1        0           0        1  9.02  13.635   \n",
       "2 2011-01-01 02:00:00       1        0           0        1  9.02  13.635   \n",
       "3 2011-01-01 03:00:00       1        0           0        1  9.84  14.395   \n",
       "4 2011-01-01 04:00:00       1        0           0        1  9.84  14.395   \n",
       "\n",
       "   humidity  windspeed  casual  registered  count  \n",
       "0        81        0.0       3          13     16  \n",
       "1        80        0.0       8          32     40  \n",
       "2        80        0.0       5          27     32  \n",
       "3        75        0.0       3          10     13  \n",
       "4        75        0.0       0           1      1  "
      ]
     },
     "execution_count": 2,
     "metadata": {},
     "output_type": "execute_result"
    }
   ],
   "source": [
    "Btrain = pd.read_csv(r'C:\\Users\\bisha\\OneDrive\\Pictures\\train.csv', parse_dates=['datetime'])\n",
    "\n",
    "Btest  = pd.read_csv(r'C:\\Users\\bisha\\OneDrive\\Pictures\\test.csv', parse_dates=['datetime'])\n",
    "\n",
    "Btrain.head()\n"
   ]
  },
  {
   "cell_type": "code",
   "execution_count": 3,
   "id": "994169fd",
   "metadata": {
    "ExecuteTime": {
     "end_time": "2022-05-07T22:56:05.290200Z",
     "start_time": "2022-05-07T22:56:05.270740Z"
    }
   },
   "outputs": [
    {
     "data": {
      "text/html": [
       "<div>\n",
       "<style scoped>\n",
       "    .dataframe tbody tr th:only-of-type {\n",
       "        vertical-align: middle;\n",
       "    }\n",
       "\n",
       "    .dataframe tbody tr th {\n",
       "        vertical-align: top;\n",
       "    }\n",
       "\n",
       "    .dataframe thead th {\n",
       "        text-align: right;\n",
       "    }\n",
       "</style>\n",
       "<table border=\"1\" class=\"dataframe\">\n",
       "  <thead>\n",
       "    <tr style=\"text-align: right;\">\n",
       "      <th></th>\n",
       "      <th>datetime</th>\n",
       "      <th>season</th>\n",
       "      <th>holiday</th>\n",
       "      <th>workingday</th>\n",
       "      <th>weather</th>\n",
       "      <th>temp</th>\n",
       "      <th>atemp</th>\n",
       "      <th>humidity</th>\n",
       "      <th>windspeed</th>\n",
       "    </tr>\n",
       "  </thead>\n",
       "  <tbody>\n",
       "    <tr>\n",
       "      <th>0</th>\n",
       "      <td>2011-01-20 00:00:00</td>\n",
       "      <td>1</td>\n",
       "      <td>0</td>\n",
       "      <td>1</td>\n",
       "      <td>1</td>\n",
       "      <td>10.66</td>\n",
       "      <td>11.365</td>\n",
       "      <td>56</td>\n",
       "      <td>26.0027</td>\n",
       "    </tr>\n",
       "    <tr>\n",
       "      <th>1</th>\n",
       "      <td>2011-01-20 01:00:00</td>\n",
       "      <td>1</td>\n",
       "      <td>0</td>\n",
       "      <td>1</td>\n",
       "      <td>1</td>\n",
       "      <td>10.66</td>\n",
       "      <td>13.635</td>\n",
       "      <td>56</td>\n",
       "      <td>0.0000</td>\n",
       "    </tr>\n",
       "    <tr>\n",
       "      <th>2</th>\n",
       "      <td>2011-01-20 02:00:00</td>\n",
       "      <td>1</td>\n",
       "      <td>0</td>\n",
       "      <td>1</td>\n",
       "      <td>1</td>\n",
       "      <td>10.66</td>\n",
       "      <td>13.635</td>\n",
       "      <td>56</td>\n",
       "      <td>0.0000</td>\n",
       "    </tr>\n",
       "    <tr>\n",
       "      <th>3</th>\n",
       "      <td>2011-01-20 03:00:00</td>\n",
       "      <td>1</td>\n",
       "      <td>0</td>\n",
       "      <td>1</td>\n",
       "      <td>1</td>\n",
       "      <td>10.66</td>\n",
       "      <td>12.880</td>\n",
       "      <td>56</td>\n",
       "      <td>11.0014</td>\n",
       "    </tr>\n",
       "    <tr>\n",
       "      <th>4</th>\n",
       "      <td>2011-01-20 04:00:00</td>\n",
       "      <td>1</td>\n",
       "      <td>0</td>\n",
       "      <td>1</td>\n",
       "      <td>1</td>\n",
       "      <td>10.66</td>\n",
       "      <td>12.880</td>\n",
       "      <td>56</td>\n",
       "      <td>11.0014</td>\n",
       "    </tr>\n",
       "  </tbody>\n",
       "</table>\n",
       "</div>"
      ],
      "text/plain": [
       "             datetime  season  holiday  workingday  weather   temp   atemp  \\\n",
       "0 2011-01-20 00:00:00       1        0           1        1  10.66  11.365   \n",
       "1 2011-01-20 01:00:00       1        0           1        1  10.66  13.635   \n",
       "2 2011-01-20 02:00:00       1        0           1        1  10.66  13.635   \n",
       "3 2011-01-20 03:00:00       1        0           1        1  10.66  12.880   \n",
       "4 2011-01-20 04:00:00       1        0           1        1  10.66  12.880   \n",
       "\n",
       "   humidity  windspeed  \n",
       "0        56    26.0027  \n",
       "1        56     0.0000  \n",
       "2        56     0.0000  \n",
       "3        56    11.0014  \n",
       "4        56    11.0014  "
      ]
     },
     "execution_count": 3,
     "metadata": {},
     "output_type": "execute_result"
    }
   ],
   "source": [
    "Btest.head()"
   ]
  },
  {
   "cell_type": "code",
   "execution_count": 5,
   "id": "c496c430",
   "metadata": {
    "ExecuteTime": {
     "end_time": "2022-05-02T00:21:31.849889Z",
     "start_time": "2022-05-02T00:21:31.836982Z"
    }
   },
   "outputs": [
    {
     "data": {
      "text/plain": [
       "(6493, 9)"
      ]
     },
     "execution_count": 5,
     "metadata": {},
     "output_type": "execute_result"
    }
   ],
   "source": [
    "Btest.shape"
   ]
  },
  {
   "cell_type": "code",
   "execution_count": 6,
   "id": "f2716e2a",
   "metadata": {
    "ExecuteTime": {
     "end_time": "2022-05-02T00:21:31.880852Z",
     "start_time": "2022-05-02T00:21:31.851883Z"
    }
   },
   "outputs": [],
   "source": [
    "# Converting datetime from object datatype to datetime\n",
    "Btrain['datetime'] = pd.to_datetime(Btrain['datetime'])\n",
    "Btest['datetime'] = pd.to_datetime(Btest['datetime'])"
   ]
  },
  {
   "cell_type": "code",
   "execution_count": 7,
   "id": "6e10d0b4",
   "metadata": {
    "ExecuteTime": {
     "end_time": "2022-05-02T00:21:31.896810Z",
     "start_time": "2022-05-02T00:21:31.882847Z"
    }
   },
   "outputs": [
    {
     "data": {
      "text/plain": [
       "(10886, 12)"
      ]
     },
     "execution_count": 7,
     "metadata": {},
     "output_type": "execute_result"
    }
   ],
   "source": [
    "Btrain.shape"
   ]
  },
  {
   "cell_type": "code",
   "execution_count": 8,
   "id": "db5f2c10",
   "metadata": {
    "ExecuteTime": {
     "end_time": "2022-05-02T00:21:31.911805Z",
     "start_time": "2022-05-02T00:21:31.898804Z"
    }
   },
   "outputs": [
    {
     "name": "stdout",
     "output_type": "stream",
     "text": [
      "The number of rows and columns in the dataset are (10886, 12) respectively\n"
     ]
    }
   ],
   "source": [
    "print(\"The number of rows and columns in the dataset are\", Btrain.shape, \"respectively\")"
   ]
  },
  {
   "cell_type": "code",
   "execution_count": 9,
   "id": "027f6ba3",
   "metadata": {
    "ExecuteTime": {
     "end_time": "2022-05-02T00:21:31.926876Z",
     "start_time": "2022-05-02T00:21:31.913799Z"
    }
   },
   "outputs": [
    {
     "name": "stdout",
     "output_type": "stream",
     "text": [
      "datetime      datetime64[ns]\n",
      "season                 int64\n",
      "holiday                int64\n",
      "workingday             int64\n",
      "weather                int64\n",
      "temp                 float64\n",
      "atemp                float64\n",
      "humidity               int64\n",
      "windspeed            float64\n",
      "casual                 int64\n",
      "registered             int64\n",
      "count                  int64\n",
      "dtype: object\n"
     ]
    }
   ],
   "source": [
    "print(Btrain.dtypes)"
   ]
  },
  {
   "cell_type": "code",
   "execution_count": 10,
   "id": "04404dea",
   "metadata": {
    "ExecuteTime": {
     "end_time": "2022-05-02T00:21:31.942849Z",
     "start_time": "2022-05-02T00:21:31.927966Z"
    }
   },
   "outputs": [
    {
     "data": {
      "text/plain": [
       "datetime      0\n",
       "season        0\n",
       "holiday       0\n",
       "workingday    0\n",
       "weather       0\n",
       "temp          0\n",
       "atemp         0\n",
       "humidity      0\n",
       "windspeed     0\n",
       "casual        0\n",
       "registered    0\n",
       "count         0\n",
       "dtype: int64"
      ]
     },
     "execution_count": 10,
     "metadata": {},
     "output_type": "execute_result"
    }
   ],
   "source": [
    "Btrain.isnull().sum() # isnull = isna"
   ]
  },
  {
   "cell_type": "markdown",
   "id": "2e8edf01",
   "metadata": {},
   "source": [
    "### Now, we'll remove the variables not in Test Table."
   ]
  },
  {
   "cell_type": "code",
   "execution_count": 4,
   "id": "835ab2ea",
   "metadata": {
    "ExecuteTime": {
     "end_time": "2022-05-02T18:06:53.835664Z",
     "start_time": "2022-05-02T18:06:53.811657Z"
    }
   },
   "outputs": [
    {
     "name": "stdout",
     "output_type": "stream",
     "text": [
      "['casual', 'registered', 'count']\n"
     ]
    }
   ],
   "source": [
    "Btest.columns\n",
    "\n",
    "print([i for i in Btrain.columns if i not in Btest.columns]) "
   ]
  },
  {
   "cell_type": "markdown",
   "id": "618ff9ec",
   "metadata": {},
   "source": [
    "Hence, we have to drop these 2 columns as they won't be relevant in final prediction. 'Count' is not dropped as it's only present in test dataset."
   ]
  },
  {
   "cell_type": "code",
   "execution_count": 5,
   "id": "c89763c8",
   "metadata": {
    "ExecuteTime": {
     "end_time": "2022-05-02T18:06:56.495270Z",
     "start_time": "2022-05-02T18:06:56.451363Z"
    }
   },
   "outputs": [
    {
     "data": {
      "text/html": [
       "<div>\n",
       "<style scoped>\n",
       "    .dataframe tbody tr th:only-of-type {\n",
       "        vertical-align: middle;\n",
       "    }\n",
       "\n",
       "    .dataframe tbody tr th {\n",
       "        vertical-align: top;\n",
       "    }\n",
       "\n",
       "    .dataframe thead th {\n",
       "        text-align: right;\n",
       "    }\n",
       "</style>\n",
       "<table border=\"1\" class=\"dataframe\">\n",
       "  <thead>\n",
       "    <tr style=\"text-align: right;\">\n",
       "      <th></th>\n",
       "      <th>datetime</th>\n",
       "      <th>season</th>\n",
       "      <th>holiday</th>\n",
       "      <th>workingday</th>\n",
       "      <th>weather</th>\n",
       "      <th>temp</th>\n",
       "      <th>atemp</th>\n",
       "      <th>humidity</th>\n",
       "      <th>windspeed</th>\n",
       "      <th>count</th>\n",
       "    </tr>\n",
       "  </thead>\n",
       "  <tbody>\n",
       "    <tr>\n",
       "      <th>0</th>\n",
       "      <td>2011-01-01 00:00:00</td>\n",
       "      <td>1</td>\n",
       "      <td>0</td>\n",
       "      <td>0</td>\n",
       "      <td>1</td>\n",
       "      <td>9.84</td>\n",
       "      <td>14.395</td>\n",
       "      <td>81</td>\n",
       "      <td>0.0</td>\n",
       "      <td>16</td>\n",
       "    </tr>\n",
       "    <tr>\n",
       "      <th>1</th>\n",
       "      <td>2011-01-01 01:00:00</td>\n",
       "      <td>1</td>\n",
       "      <td>0</td>\n",
       "      <td>0</td>\n",
       "      <td>1</td>\n",
       "      <td>9.02</td>\n",
       "      <td>13.635</td>\n",
       "      <td>80</td>\n",
       "      <td>0.0</td>\n",
       "      <td>40</td>\n",
       "    </tr>\n",
       "    <tr>\n",
       "      <th>2</th>\n",
       "      <td>2011-01-01 02:00:00</td>\n",
       "      <td>1</td>\n",
       "      <td>0</td>\n",
       "      <td>0</td>\n",
       "      <td>1</td>\n",
       "      <td>9.02</td>\n",
       "      <td>13.635</td>\n",
       "      <td>80</td>\n",
       "      <td>0.0</td>\n",
       "      <td>32</td>\n",
       "    </tr>\n",
       "    <tr>\n",
       "      <th>3</th>\n",
       "      <td>2011-01-01 03:00:00</td>\n",
       "      <td>1</td>\n",
       "      <td>0</td>\n",
       "      <td>0</td>\n",
       "      <td>1</td>\n",
       "      <td>9.84</td>\n",
       "      <td>14.395</td>\n",
       "      <td>75</td>\n",
       "      <td>0.0</td>\n",
       "      <td>13</td>\n",
       "    </tr>\n",
       "    <tr>\n",
       "      <th>4</th>\n",
       "      <td>2011-01-01 04:00:00</td>\n",
       "      <td>1</td>\n",
       "      <td>0</td>\n",
       "      <td>0</td>\n",
       "      <td>1</td>\n",
       "      <td>9.84</td>\n",
       "      <td>14.395</td>\n",
       "      <td>75</td>\n",
       "      <td>0.0</td>\n",
       "      <td>1</td>\n",
       "    </tr>\n",
       "  </tbody>\n",
       "</table>\n",
       "</div>"
      ],
      "text/plain": [
       "             datetime  season  holiday  workingday  weather  temp   atemp  \\\n",
       "0 2011-01-01 00:00:00       1        0           0        1  9.84  14.395   \n",
       "1 2011-01-01 01:00:00       1        0           0        1  9.02  13.635   \n",
       "2 2011-01-01 02:00:00       1        0           0        1  9.02  13.635   \n",
       "3 2011-01-01 03:00:00       1        0           0        1  9.84  14.395   \n",
       "4 2011-01-01 04:00:00       1        0           0        1  9.84  14.395   \n",
       "\n",
       "   humidity  windspeed  count  \n",
       "0        81        0.0     16  \n",
       "1        80        0.0     40  \n",
       "2        80        0.0     32  \n",
       "3        75        0.0     13  \n",
       "4        75        0.0      1  "
      ]
     },
     "execution_count": 5,
     "metadata": {},
     "output_type": "execute_result"
    }
   ],
   "source": [
    "Btrain = Btrain.drop(['casual','registered'], axis=1)\n",
    "Btrain.head()"
   ]
  },
  {
   "cell_type": "code",
   "execution_count": 6,
   "id": "d71b69dd",
   "metadata": {
    "ExecuteTime": {
     "end_time": "2022-05-02T18:07:00.711695Z",
     "start_time": "2022-05-02T18:07:00.679535Z"
    }
   },
   "outputs": [],
   "source": [
    "Btrain['hr'] = Btrain['datetime'].dt.hour"
   ]
  },
  {
   "cell_type": "code",
   "execution_count": 7,
   "id": "11cc45f3",
   "metadata": {
    "ExecuteTime": {
     "end_time": "2022-05-02T18:07:03.863772Z",
     "start_time": "2022-05-02T18:07:02.416157Z"
    }
   },
   "outputs": [
    {
     "data": {
      "text/plain": [
       "<seaborn.axisgrid.FacetGrid at 0x1eaabbe4880>"
      ]
     },
     "execution_count": 7,
     "metadata": {},
     "output_type": "execute_result"
    },
    {
     "data": {
      "image/png": "[encoded data removed]",
      "text/plain": [
       "<Figure size 720x360 with 1 Axes>"
      ]
     },
     "metadata": {
      "needs_background": "light"
     },
     "output_type": "display_data"
    }
   ],
   "source": [
    "sns.catplot(x=\"hr\",y=\"count\",data=Btrain, kind='bar', palette = 'Accent', height=5 ,aspect=2)"
   ]
  },
  {
   "cell_type": "code",
   "execution_count": 15,
   "id": "14eb8974",
   "metadata": {
    "ExecuteTime": {
     "end_time": "2022-05-02T00:21:33.398729Z",
     "start_time": "2022-05-02T00:21:33.386785Z"
    }
   },
   "outputs": [],
   "source": [
    "Btrain['year'] = Btrain['datetime'].dt.year"
   ]
  },
  {
   "cell_type": "code",
   "execution_count": 16,
   "id": "c7b3ee76",
   "metadata": {
    "ExecuteTime": {
     "end_time": "2022-05-02T00:21:33.676978Z",
     "start_time": "2022-05-02T00:21:33.400659Z"
    }
   },
   "outputs": [
    {
     "data": {
      "text/plain": [
       "<seaborn.axisgrid.FacetGrid at 0x177cb348f70>"
      ]
     },
     "execution_count": 16,
     "metadata": {},
     "output_type": "execute_result"
    },
    {
     "data": {
      "image/png": "[encoded data removed]",
      "text/plain": [
       "<Figure size 630x360 with 1 Axes>"
      ]
     },
     "metadata": {
      "needs_background": "light"
     },
     "output_type": "display_data"
    }
   ],
   "source": [
    "sns.catplot(x = \"year\", y=\"count\", data=Btrain ,kind='box', color = 'Green', height = 5 ,aspect= 1.75)"
   ]
  },
  {
   "cell_type": "markdown",
   "id": "b7bddd27",
   "metadata": {},
   "source": [
    "### Building Correlation Matrix:"
   ]
  },
  {
   "cell_type": "code",
   "execution_count": 4,
   "id": "b0a4193f",
   "metadata": {
    "ExecuteTime": {
     "end_time": "2022-05-07T22:56:14.340761Z",
     "start_time": "2022-05-07T22:56:14.316377Z"
    }
   },
   "outputs": [],
   "source": [
    "Btrain['year'] = Btrain['datetime'].dt.year\n",
    "Btrain['month'] = Btrain['datetime'].dt.month\n",
    "Btrain['day'] = Btrain['datetime'].dt.day\n",
    "Btrain['hour'] = Btrain['datetime'].dt.hour\n",
    "Btrain['minute'] = Btrain['datetime'].dt.minute\n",
    "Btrain['second'] = Btrain['datetime'].dt.second"
   ]
  },
  {
   "cell_type": "code",
   "execution_count": 5,
   "id": "905f3582",
   "metadata": {
    "ExecuteTime": {
     "end_time": "2022-05-07T22:56:18.912257Z",
     "start_time": "2022-05-07T22:56:17.811700Z"
    }
   },
   "outputs": [
    {
     "data": {
      "text/plain": [
       "<AxesSubplot:>"
      ]
     },
     "execution_count": 5,
     "metadata": {},
     "output_type": "execute_result"
    },
    {
     "data": {
      "image/png": "[encoded data removed]",
      "text/plain": [
       "<Figure size 1440x720 with 2 Axes>"
      ]
     },
     "metadata": {
      "needs_background": "light"
     },
     "output_type": "display_data"
    }
   ],
   "source": [
    "numeric = [\"temp\",\"atemp\",\"humidity\",\"windspeed\",\"count\",\"year\",\"month\",\"day\",\"hour\"]\n",
    "plt.subplots(figsize=(20,10))\n",
    "sns.heatmap(Btrain[numeric].corr(),annot=True)"
   ]
  },
  {
   "cell_type": "code",
   "execution_count": 19,
   "id": "837f710c",
   "metadata": {
    "ExecuteTime": {
     "end_time": "2022-05-02T00:21:35.713937Z",
     "start_time": "2022-05-02T00:21:34.768062Z"
    }
   },
   "outputs": [
    {
     "data": {
      "text/plain": [
       "<seaborn.axisgrid.FacetGrid at 0x177cb359790>"
      ]
     },
     "execution_count": 19,
     "metadata": {},
     "output_type": "execute_result"
    },
    {
     "data": {
      "image/png": "[encoded data removed]",
      "text/plain": [
       "<Figure size 360x360 with 1 Axes>"
      ]
     },
     "metadata": {
      "needs_background": "light"
     },
     "output_type": "display_data"
    }
   ],
   "source": [
    "new_df=Btrain.copy()\n",
    "\n",
    "new_df['temp_bin']=np.floor(new_df['temp'])//3\n",
    "\n",
    "sns.catplot(x=\"temp_bin\",y=\"count\",data=new_df,kind='bar')"
   ]
  },
  {
   "cell_type": "code",
   "execution_count": 20,
   "id": "6dc72437",
   "metadata": {
    "ExecuteTime": {
     "end_time": "2022-05-02T00:21:39.308674Z",
     "start_time": "2022-05-02T00:21:35.715856Z"
    }
   },
   "outputs": [
    {
     "data": {
      "text/plain": [
       "[Text(0.5, 0, 'hour'), Text(0.5, 1.0, 'Rental volume by time')]"
      ]
     },
     "execution_count": 20,
     "metadata": {},
     "output_type": "execute_result"
    },
    {
     "data": {
      "image/png": "[encoded data removed]",
      "text/plain": [
       "<Figure size 1296x576 with 6 Axes>"
      ]
     },
     "metadata": {
      "needs_background": "light"
     },
     "output_type": "display_data"
    }
   ],
   "source": [
    "figure, ((ax1,ax2,ax3), (ax4,ax5,ax6)) = plt.subplots(nrows=2, ncols=3)\n",
    "figure.set_size_inches(18,8)\n",
    "\n",
    "sns.barplot(data=Btrain, x=\"year\", y=\"count\", ax=ax1)\n",
    "sns.barplot(data=Btrain, x=\"month\", y=\"count\", ax=ax2)\n",
    "sns.barplot(data=Btrain, x=\"day\", y=\"count\", ax=ax3)\n",
    "sns.barplot(data=Btrain, x=\"hour\", y=\"count\", ax=ax4)\n",
    "sns.barplot(data=Btrain, x=\"minute\", y=\"count\", ax=ax5)\n",
    "sns.barplot(data=Btrain, x=\"second\", y=\"count\", ax=ax6)\n",
    "\n",
    "ax1.set(ylabel='Count',title=\"Rental volume by year\")\n",
    "ax2.set(xlabel='month',title=\"Rental volume by month\")\n",
    "ax3.set(xlabel='day', title=\"Rental volume by day\")\n",
    "ax4.set(xlabel='hour', title=\"Rental volume by time\")"
   ]
  },
  {
   "cell_type": "code",
   "execution_count": 21,
   "id": "0c70adfe",
   "metadata": {
    "ExecuteTime": {
     "end_time": "2022-05-02T00:21:39.650087Z",
     "start_time": "2022-05-02T00:21:39.310669Z"
    }
   },
   "outputs": [
    {
     "data": {
      "text/plain": [
       "<AxesSubplot:xlabel='datetime'>"
      ]
     },
     "execution_count": 21,
     "metadata": {},
     "output_type": "execute_result"
    },
    {
     "data": {
      "image/png": "[encoded data removed]",
      "text/plain": [
       "<Figure size 1080x504 with 1 Axes>"
      ]
     },
     "metadata": {
      "needs_background": "light"
     },
     "output_type": "display_data"
    }
   ],
   "source": [
    "Btrain_date_index = Btrain.set_index('datetime')\n",
    "Btrain_date_index[\"count\"].plot(figsize=(15, 7))"
   ]
  },
  {
   "cell_type": "code",
   "execution_count": 22,
   "id": "3b21f410",
   "metadata": {
    "ExecuteTime": {
     "end_time": "2022-05-02T00:21:39.666072Z",
     "start_time": "2022-05-02T00:21:39.652129Z"
    }
   },
   "outputs": [],
   "source": [
    "# Plotting demand across hours for each year:"
   ]
  },
  {
   "cell_type": "code",
   "execution_count": 23,
   "id": "71d5485c",
   "metadata": {
    "ExecuteTime": {
     "end_time": "2022-05-02T00:21:39.945126Z",
     "start_time": "2022-05-02T00:21:39.667252Z"
    }
   },
   "outputs": [
    {
     "data": {
      "text/plain": [
       "Text(0.5, 1.0, 'Demand at Different Hours across Years')"
      ]
     },
     "execution_count": 23,
     "metadata": {},
     "output_type": "execute_result"
    },
    {
     "data": {
      "image/png": "[encoded data removed]",
      "text/plain": [
       "<Figure size 1296x648 with 1 Axes>"
      ]
     },
     "metadata": {
      "needs_background": "light"
     },
     "output_type": "display_data"
    }
   ],
   "source": [
    "Btrain['hour'] = Btrain['datetime'].dt.hour\n",
    "Btrain['year'] = Btrain.datetime.dt.year\n",
    "\n",
    "piv = pd.pivot_table(Btrain, index=['hour'],columns=['year'], values=['count'])\n",
    "\n",
    "piv.plot(figsize=(18, 9)).set_title('Demand at Different Hours across Years', fontweight=\"bold\")"
   ]
  },
  {
   "cell_type": "code",
   "execution_count": 24,
   "id": "8c948195",
   "metadata": {
    "ExecuteTime": {
     "end_time": "2022-05-02T00:21:40.085246Z",
     "start_time": "2022-05-02T00:21:39.946775Z"
    }
   },
   "outputs": [
    {
     "data": {
      "text/plain": [
       "Text(0.5, 1.0, 'Count Boxplot')"
      ]
     },
     "execution_count": 24,
     "metadata": {},
     "output_type": "execute_result"
    },
    {
     "data": {
      "image/png": "[encoded data removed]",
      "text/plain": [
       "<Figure size 432x288 with 1 Axes>"
      ]
     },
     "metadata": {
      "needs_background": "light"
     },
     "output_type": "display_data"
    }
   ],
   "source": [
    "Btrain.boxplot(column= [\"count\"]).set_title('Count Boxplot', fontweight=\"bold\")\n"
   ]
  },
  {
   "cell_type": "code",
   "execution_count": 25,
   "id": "d500afc2",
   "metadata": {
    "ExecuteTime": {
     "end_time": "2022-05-02T00:21:40.317953Z",
     "start_time": "2022-05-02T00:21:40.087241Z"
    }
   },
   "outputs": [
    {
     "data": {
      "text/plain": [
       "Text(0.5, 1.0, 'Boxplots of Temp, Atemp, Weather, Humidity, and Windspeed')"
      ]
     },
     "execution_count": 25,
     "metadata": {},
     "output_type": "execute_result"
    },
    {
     "data": {
      "image/png": "[encoded data removed]",
      "text/plain": [
       "<Figure size 432x288 with 1 Axes>"
      ]
     },
     "metadata": {
      "needs_background": "light"
     },
     "output_type": "display_data"
    }
   ],
   "source": [
    "Btrain.boxplot(column=[\"temp\", \"atemp\", \"weather\", 'humidity', 'windspeed']).set_title('Boxplots of Temp, Atemp, Weather, Humidity, and Windspeed') "
   ]
  },
  {
   "cell_type": "code",
   "execution_count": 26,
   "id": "ee8a6b9a",
   "metadata": {
    "ExecuteTime": {
     "end_time": "2022-05-02T00:21:40.349204Z",
     "start_time": "2022-05-02T00:21:40.323902Z"
    }
   },
   "outputs": [],
   "source": [
    "# Creating the list of features\n",
    "feature_names = ['year', 'hour', 'season', 'holiday', 'workingday',\n",
    "                 'weather', 'temp', 'atemp', 'humidity', 'windspeed']\n",
    "\n",
    "# Assigning the data corresponding to features in feature_names\n",
    "X_train = Btrain[feature_names]\n",
    "\n",
    "# Assigning the data corresponding to features in feature_names\n",
    "Btest['year'] = Btest.datetime.dt.year\n",
    "Btest['hour'] = Btest.datetime.dt.hour\n",
    "\n",
    "X_test = Btest[feature_names]"
   ]
  },
  {
   "cell_type": "code",
   "execution_count": 27,
   "id": "9a08e5f9",
   "metadata": {
    "ExecuteTime": {
     "end_time": "2022-05-02T00:21:40.365041Z",
     "start_time": "2022-05-02T00:21:40.351030Z"
    }
   },
   "outputs": [
    {
     "name": "stdout",
     "output_type": "stream",
     "text": [
      "0         16\n",
      "1         40\n",
      "2         32\n",
      "3         13\n",
      "4          1\n",
      "        ... \n",
      "10881    336\n",
      "10882    241\n",
      "10883    168\n",
      "10884    129\n",
      "10885     88\n",
      "Name: count, Length: 10886, dtype: int64\n"
     ]
    }
   ],
   "source": [
    "y_train = Btrain['count']\n",
    "print(y_train)"
   ]
  },
  {
   "cell_type": "code",
   "execution_count": 28,
   "id": "2b4b834c",
   "metadata": {
    "ExecuteTime": {
     "end_time": "2022-05-02T00:21:43.562068Z",
     "start_time": "2022-05-02T00:21:40.367003Z"
    }
   },
   "outputs": [],
   "source": [
    "# Defining the model \n",
    "rf_model = RandomForestRegressor(random_state=1)\n",
    "\n",
    "# Fitting the model \n",
    "rf_model.fit(X_train, y_train)\n",
    "\n",
    "# Prediction\n",
    "y_pred = rf_model.predict(X_test)\n",
    "pred = pd.DataFrame(y_pred)"
   ]
  },
  {
   "cell_type": "code",
   "execution_count": 29,
   "id": "3a8217ab",
   "metadata": {
    "ExecuteTime": {
     "end_time": "2022-05-02T00:21:43.794613Z",
     "start_time": "2022-05-02T00:21:43.563903Z"
    }
   },
   "outputs": [
    {
     "data": {
      "text/plain": [
       "<AxesSubplot:title={'center':'Feature Importance'}, ylabel='None'>"
      ]
     },
     "execution_count": 29,
     "metadata": {},
     "output_type": "execute_result"
    },
    {
     "data": {
      "image/png": "[encoded data removed]",
      "text/plain": [
       "<Figure size 576x720 with 1 Axes>"
      ]
     },
     "metadata": {},
     "output_type": "display_data"
    }
   ],
   "source": [
    "# Calculating feature importance\n",
    "feat_importance = pd.Series(rf_model.feature_importances_, index=X_train.columns)\n",
    "feat_importance.nlargest(10).plot(kind='pie', normalize = False, title = 'Feature Importance', figsize = (8,10))"
   ]
  },
  {
   "cell_type": "code",
   "execution_count": null,
   "id": "8cda73f0",
   "metadata": {},
   "outputs": [],
   "source": []
  },
  {
   "cell_type": "code",
   "execution_count": 30,
   "id": "e686210b",
   "metadata": {
    "ExecuteTime": {
     "end_time": "2022-05-02T00:21:43.824988Z",
     "start_time": "2022-05-02T00:21:43.797554Z"
    }
   },
   "outputs": [],
   "source": [
    "Sample_Sub = pd.read_csv(r'C:\\Users\\bisha\\Videos\\sampleSubmission.csv')"
   ]
  },
  {
   "cell_type": "code",
   "execution_count": null,
   "id": "0c4a0d5b",
   "metadata": {},
   "outputs": [],
   "source": []
  },
  {
   "cell_type": "code",
   "execution_count": 31,
   "id": "45396d4c",
   "metadata": {
    "ExecuteTime": {
     "end_time": "2022-05-02T00:21:43.855675Z",
     "start_time": "2022-05-02T00:21:43.825990Z"
    }
   },
   "outputs": [],
   "source": [
    "# print \n",
    "datasets = pd.concat([Sample_Sub['datetime'], pred], axis=1)\n",
    "datasets.columns =['datetime', 'count']\n",
    "datasets.to_csv('submission.csv', index=False)"
   ]
  },
  {
   "cell_type": "code",
   "execution_count": 32,
   "id": "85c7941c",
   "metadata": {
    "ExecuteTime": {
     "end_time": "2022-05-02T00:21:43.871641Z",
     "start_time": "2022-05-02T00:21:43.856653Z"
    }
   },
   "outputs": [
    {
     "data": {
      "text/html": [
       "<div>\n",
       "<style scoped>\n",
       "    .dataframe tbody tr th:only-of-type {\n",
       "        vertical-align: middle;\n",
       "    }\n",
       "\n",
       "    .dataframe tbody tr th {\n",
       "        vertical-align: top;\n",
       "    }\n",
       "\n",
       "    .dataframe thead th {\n",
       "        text-align: right;\n",
       "    }\n",
       "</style>\n",
       "<table border=\"1\" class=\"dataframe\">\n",
       "  <thead>\n",
       "    <tr style=\"text-align: right;\">\n",
       "      <th></th>\n",
       "      <th>datetime</th>\n",
       "      <th>count</th>\n",
       "    </tr>\n",
       "  </thead>\n",
       "  <tbody>\n",
       "    <tr>\n",
       "      <th>0</th>\n",
       "      <td>2011-01-20 00:00:00</td>\n",
       "      <td>10.840000</td>\n",
       "    </tr>\n",
       "    <tr>\n",
       "      <th>1</th>\n",
       "      <td>2011-01-20 01:00:00</td>\n",
       "      <td>4.860000</td>\n",
       "    </tr>\n",
       "    <tr>\n",
       "      <th>2</th>\n",
       "      <td>2011-01-20 02:00:00</td>\n",
       "      <td>3.580000</td>\n",
       "    </tr>\n",
       "    <tr>\n",
       "      <th>3</th>\n",
       "      <td>2011-01-20 03:00:00</td>\n",
       "      <td>3.943333</td>\n",
       "    </tr>\n",
       "    <tr>\n",
       "      <th>4</th>\n",
       "      <td>2011-01-20 04:00:00</td>\n",
       "      <td>3.030000</td>\n",
       "    </tr>\n",
       "    <tr>\n",
       "      <th>...</th>\n",
       "      <td>...</td>\n",
       "      <td>...</td>\n",
       "    </tr>\n",
       "    <tr>\n",
       "      <th>6488</th>\n",
       "      <td>2012-12-31 19:00:00</td>\n",
       "      <td>220.650000</td>\n",
       "    </tr>\n",
       "    <tr>\n",
       "      <th>6489</th>\n",
       "      <td>2012-12-31 20:00:00</td>\n",
       "      <td>156.890000</td>\n",
       "    </tr>\n",
       "    <tr>\n",
       "      <th>6490</th>\n",
       "      <td>2012-12-31 21:00:00</td>\n",
       "      <td>101.890000</td>\n",
       "    </tr>\n",
       "    <tr>\n",
       "      <th>6491</th>\n",
       "      <td>2012-12-31 22:00:00</td>\n",
       "      <td>106.123333</td>\n",
       "    </tr>\n",
       "    <tr>\n",
       "      <th>6492</th>\n",
       "      <td>2012-12-31 23:00:00</td>\n",
       "      <td>55.610000</td>\n",
       "    </tr>\n",
       "  </tbody>\n",
       "</table>\n",
       "<p>6493 rows × 2 columns</p>\n",
       "</div>"
      ],
      "text/plain": [
       "                 datetime       count\n",
       "0     2011-01-20 00:00:00   10.840000\n",
       "1     2011-01-20 01:00:00    4.860000\n",
       "2     2011-01-20 02:00:00    3.580000\n",
       "3     2011-01-20 03:00:00    3.943333\n",
       "4     2011-01-20 04:00:00    3.030000\n",
       "...                   ...         ...\n",
       "6488  2012-12-31 19:00:00  220.650000\n",
       "6489  2012-12-31 20:00:00  156.890000\n",
       "6490  2012-12-31 21:00:00  101.890000\n",
       "6491  2012-12-31 22:00:00  106.123333\n",
       "6492  2012-12-31 23:00:00   55.610000\n",
       "\n",
       "[6493 rows x 2 columns]"
      ]
     },
     "execution_count": 32,
     "metadata": {},
     "output_type": "execute_result"
    }
   ],
   "source": [
    "datasets"
   ]
  },
  {
   "cell_type": "code",
   "execution_count": 33,
   "id": "05281f21",
   "metadata": {
    "ExecuteTime": {
     "end_time": "2022-05-02T00:21:43.887340Z",
     "start_time": "2022-05-02T00:21:43.872639Z"
    }
   },
   "outputs": [
    {
     "data": {
      "text/html": [
       "<div>\n",
       "<style scoped>\n",
       "    .dataframe tbody tr th:only-of-type {\n",
       "        vertical-align: middle;\n",
       "    }\n",
       "\n",
       "    .dataframe tbody tr th {\n",
       "        vertical-align: top;\n",
       "    }\n",
       "\n",
       "    .dataframe thead th {\n",
       "        text-align: right;\n",
       "    }\n",
       "</style>\n",
       "<table border=\"1\" class=\"dataframe\">\n",
       "  <thead>\n",
       "    <tr style=\"text-align: right;\">\n",
       "      <th></th>\n",
       "      <th>datetime</th>\n",
       "      <th>count</th>\n",
       "    </tr>\n",
       "  </thead>\n",
       "  <tbody>\n",
       "    <tr>\n",
       "      <th>0</th>\n",
       "      <td>2011-01-20 00:00:00</td>\n",
       "      <td>10.840000</td>\n",
       "    </tr>\n",
       "    <tr>\n",
       "      <th>1</th>\n",
       "      <td>2011-01-20 01:00:00</td>\n",
       "      <td>4.860000</td>\n",
       "    </tr>\n",
       "    <tr>\n",
       "      <th>2</th>\n",
       "      <td>2011-01-20 02:00:00</td>\n",
       "      <td>3.580000</td>\n",
       "    </tr>\n",
       "    <tr>\n",
       "      <th>3</th>\n",
       "      <td>2011-01-20 03:00:00</td>\n",
       "      <td>3.943333</td>\n",
       "    </tr>\n",
       "    <tr>\n",
       "      <th>4</th>\n",
       "      <td>2011-01-20 04:00:00</td>\n",
       "      <td>3.030000</td>\n",
       "    </tr>\n",
       "    <tr>\n",
       "      <th>5</th>\n",
       "      <td>2011-01-20 05:00:00</td>\n",
       "      <td>7.100000</td>\n",
       "    </tr>\n",
       "    <tr>\n",
       "      <th>6</th>\n",
       "      <td>2011-01-20 06:00:00</td>\n",
       "      <td>38.810000</td>\n",
       "    </tr>\n",
       "    <tr>\n",
       "      <th>7</th>\n",
       "      <td>2011-01-20 07:00:00</td>\n",
       "      <td>105.620000</td>\n",
       "    </tr>\n",
       "    <tr>\n",
       "      <th>8</th>\n",
       "      <td>2011-01-20 08:00:00</td>\n",
       "      <td>244.740000</td>\n",
       "    </tr>\n",
       "    <tr>\n",
       "      <th>9</th>\n",
       "      <td>2011-01-20 09:00:00</td>\n",
       "      <td>126.180000</td>\n",
       "    </tr>\n",
       "    <tr>\n",
       "      <th>10</th>\n",
       "      <td>2011-01-20 10:00:00</td>\n",
       "      <td>62.920000</td>\n",
       "    </tr>\n",
       "    <tr>\n",
       "      <th>11</th>\n",
       "      <td>2011-01-20 11:00:00</td>\n",
       "      <td>72.210000</td>\n",
       "    </tr>\n",
       "    <tr>\n",
       "      <th>12</th>\n",
       "      <td>2011-01-20 12:00:00</td>\n",
       "      <td>79.340000</td>\n",
       "    </tr>\n",
       "    <tr>\n",
       "      <th>13</th>\n",
       "      <td>2011-01-20 13:00:00</td>\n",
       "      <td>81.010000</td>\n",
       "    </tr>\n",
       "    <tr>\n",
       "      <th>14</th>\n",
       "      <td>2011-01-20 14:00:00</td>\n",
       "      <td>86.550000</td>\n",
       "    </tr>\n",
       "    <tr>\n",
       "      <th>15</th>\n",
       "      <td>2011-01-20 15:00:00</td>\n",
       "      <td>86.850000</td>\n",
       "    </tr>\n",
       "    <tr>\n",
       "      <th>16</th>\n",
       "      <td>2011-01-20 16:00:00</td>\n",
       "      <td>100.650000</td>\n",
       "    </tr>\n",
       "    <tr>\n",
       "      <th>17</th>\n",
       "      <td>2011-01-20 17:00:00</td>\n",
       "      <td>210.820000</td>\n",
       "    </tr>\n",
       "    <tr>\n",
       "      <th>18</th>\n",
       "      <td>2011-01-20 18:00:00</td>\n",
       "      <td>183.650000</td>\n",
       "    </tr>\n",
       "    <tr>\n",
       "      <th>19</th>\n",
       "      <td>2011-01-20 19:00:00</td>\n",
       "      <td>100.830000</td>\n",
       "    </tr>\n",
       "    <tr>\n",
       "      <th>20</th>\n",
       "      <td>2011-01-20 20:00:00</td>\n",
       "      <td>70.780000</td>\n",
       "    </tr>\n",
       "    <tr>\n",
       "      <th>21</th>\n",
       "      <td>2011-01-20 21:00:00</td>\n",
       "      <td>49.910000</td>\n",
       "    </tr>\n",
       "    <tr>\n",
       "      <th>22</th>\n",
       "      <td>2011-01-20 22:00:00</td>\n",
       "      <td>43.780000</td>\n",
       "    </tr>\n",
       "    <tr>\n",
       "      <th>23</th>\n",
       "      <td>2011-01-20 23:00:00</td>\n",
       "      <td>24.440000</td>\n",
       "    </tr>\n",
       "  </tbody>\n",
       "</table>\n",
       "</div>"
      ],
      "text/plain": [
       "               datetime       count\n",
       "0   2011-01-20 00:00:00   10.840000\n",
       "1   2011-01-20 01:00:00    4.860000\n",
       "2   2011-01-20 02:00:00    3.580000\n",
       "3   2011-01-20 03:00:00    3.943333\n",
       "4   2011-01-20 04:00:00    3.030000\n",
       "5   2011-01-20 05:00:00    7.100000\n",
       "6   2011-01-20 06:00:00   38.810000\n",
       "7   2011-01-20 07:00:00  105.620000\n",
       "8   2011-01-20 08:00:00  244.740000\n",
       "9   2011-01-20 09:00:00  126.180000\n",
       "10  2011-01-20 10:00:00   62.920000\n",
       "11  2011-01-20 11:00:00   72.210000\n",
       "12  2011-01-20 12:00:00   79.340000\n",
       "13  2011-01-20 13:00:00   81.010000\n",
       "14  2011-01-20 14:00:00   86.550000\n",
       "15  2011-01-20 15:00:00   86.850000\n",
       "16  2011-01-20 16:00:00  100.650000\n",
       "17  2011-01-20 17:00:00  210.820000\n",
       "18  2011-01-20 18:00:00  183.650000\n",
       "19  2011-01-20 19:00:00  100.830000\n",
       "20  2011-01-20 20:00:00   70.780000\n",
       "21  2011-01-20 21:00:00   49.910000\n",
       "22  2011-01-20 22:00:00   43.780000\n",
       "23  2011-01-20 23:00:00   24.440000"
      ]
     },
     "execution_count": 33,
     "metadata": {},
     "output_type": "execute_result"
    }
   ],
   "source": [
    "dataset_new = datasets.iloc[0:24, :]\n",
    "\n",
    "dataset_new"
   ]
  },
  {
   "cell_type": "code",
   "execution_count": 34,
   "id": "0eac4563",
   "metadata": {
    "ExecuteTime": {
     "end_time": "2022-05-02T00:21:44.201676Z",
     "start_time": "2022-05-02T00:21:43.889334Z"
    }
   },
   "outputs": [
    {
     "data": {
      "text/plain": [
       "<AxesSubplot:title={'center':'Bike Demand for 24 hours on 20th Jan 2011'}>"
      ]
     },
     "execution_count": 34,
     "metadata": {},
     "output_type": "execute_result"
    },
    {
     "data": {
      "image/png": "[encoded data removed]",
      "text/plain": [
       "<Figure size 1080x720 with 1 Axes>"
      ]
     },
     "metadata": {
      "needs_background": "light"
     },
     "output_type": "display_data"
    }
   ],
   "source": [
    "dataset_new.plot(title = 'Bike Demand for 24 hours on 20th Jan 2011', kind = 'bar', figsize = (15,10))"
   ]
  },
  {
   "cell_type": "code",
   "execution_count": 35,
   "id": "3eaee0f8",
   "metadata": {
    "ExecuteTime": {
     "end_time": "2022-05-02T00:21:44.217557Z",
     "start_time": "2022-05-02T00:21:44.204537Z"
    }
   },
   "outputs": [],
   "source": [
    "# Results & Inferences"
   ]
  },
  {
   "cell_type": "code",
   "execution_count": 36,
   "id": "111e7a33",
   "metadata": {
    "ExecuteTime": {
     "end_time": "2022-05-02T00:21:44.233187Z",
     "start_time": "2022-05-02T00:21:44.219204Z"
    }
   },
   "outputs": [],
   "source": [
    "# Regression:"
   ]
  },
  {
   "cell_type": "code",
   "execution_count": 13,
   "id": "dd633cf5",
   "metadata": {
    "ExecuteTime": {
     "end_time": "2022-05-07T22:57:48.722801Z",
     "start_time": "2022-05-07T22:57:48.719272Z"
    }
   },
   "outputs": [],
   "source": [
    "from sklearn.linear_model import LinearRegression\n",
    "from sklearn.model_selection import train_test_split\n",
    "\n",
    "from sklearn.ensemble import RandomForestRegressor"
   ]
  },
  {
   "cell_type": "code",
   "execution_count": 14,
   "id": "7b8c7946",
   "metadata": {
    "ExecuteTime": {
     "end_time": "2022-05-07T22:57:50.322189Z",
     "start_time": "2022-05-07T22:57:50.313134Z"
    }
   },
   "outputs": [],
   "source": [
    "lr = LinearRegression()"
   ]
  },
  {
   "cell_type": "code",
   "execution_count": 39,
   "id": "70a6f54b",
   "metadata": {
    "ExecuteTime": {
     "end_time": "2022-05-02T00:21:44.279976Z",
     "start_time": "2022-05-02T00:21:44.267005Z"
    }
   },
   "outputs": [],
   "source": [
    "# Creating X and y\n",
    "X1 = Btrain['hour']\n",
    "y1= Btrain['count']"
   ]
  },
  {
   "cell_type": "code",
   "execution_count": 40,
   "id": "481781b8",
   "metadata": {
    "ExecuteTime": {
     "end_time": "2022-05-02T00:21:44.295598Z",
     "start_time": "2022-05-02T00:21:44.282028Z"
    }
   },
   "outputs": [],
   "source": [
    "# Splitting the varaibles as training and testing\n",
    "from sklearn.model_selection import train_test_split\n",
    "X1_train, X1_test, y1_train, y1_test = train_test_split(X1, y1, train_size = 0.8, test_size = 0.2, random_state = 100)"
   ]
  },
  {
   "cell_type": "code",
   "execution_count": 41,
   "id": "126d810d",
   "metadata": {
    "ExecuteTime": {
     "end_time": "2022-05-02T00:21:44.310629Z",
     "start_time": "2022-05-02T00:21:44.296596Z"
    }
   },
   "outputs": [
    {
     "data": {
      "text/plain": [
       "1378     33\n",
       "7855    466\n",
       "1715    102\n",
       "5535    383\n",
       "3543    176\n",
       "       ... \n",
       "350      16\n",
       "79       57\n",
       "8039    653\n",
       "6936    123\n",
       "5640      4\n",
       "Name: count, Length: 8708, dtype: int64"
      ]
     },
     "execution_count": 41,
     "metadata": {},
     "output_type": "execute_result"
    }
   ],
   "source": [
    "# Take a look at the train dataset\n",
    "X1_train\n",
    "y1_train"
   ]
  },
  {
   "cell_type": "code",
   "execution_count": 42,
   "id": "a5bc98a7",
   "metadata": {
    "ExecuteTime": {
     "end_time": "2022-05-02T00:21:46.051866Z",
     "start_time": "2022-05-02T00:21:44.312611Z"
    }
   },
   "outputs": [],
   "source": [
    "# Importing Statsmodels.api library from Stamodel package\n",
    "import statsmodels.api as sm\n",
    "\n",
    "# Adding a constant to get an intercept\n",
    "X1_train_sm = sm.add_constant(X1_train)"
   ]
  },
  {
   "cell_type": "code",
   "execution_count": 43,
   "id": "a1ac76dd",
   "metadata": {
    "ExecuteTime": {
     "end_time": "2022-05-02T00:21:46.067154Z",
     "start_time": "2022-05-02T00:21:46.053774Z"
    }
   },
   "outputs": [
    {
     "data": {
      "text/plain": [
       "const    72.525545\n",
       "hour     10.443534\n",
       "dtype: float64"
      ]
     },
     "execution_count": 43,
     "metadata": {},
     "output_type": "execute_result"
    }
   ],
   "source": [
    "# Fitting the resgression line using 'OLS'\n",
    "lr = sm.OLS(y1_train, X1_train_sm).fit()\n",
    "\n",
    "# Printing the parameters\n",
    "lr.params"
   ]
  },
  {
   "cell_type": "code",
   "execution_count": 44,
   "id": "6b7b8943",
   "metadata": {
    "ExecuteTime": {
     "end_time": "2022-05-02T00:21:46.113954Z",
     "start_time": "2022-05-02T00:21:46.069751Z"
    }
   },
   "outputs": [
    {
     "data": {
      "text/html": [
       "<table class=\"simpletable\">\n",
       "<caption>OLS Regression Results</caption>\n",
       "<tr>\n",
       "  <th>Dep. Variable:</th>          <td>count</td>      <th>  R-squared:         </th> <td>   0.157</td> \n",
       "</tr>\n",
       "<tr>\n",
       "  <th>Model:</th>                   <td>OLS</td>       <th>  Adj. R-squared:    </th> <td>   0.156</td> \n",
       "</tr>\n",
       "<tr>\n",
       "  <th>Method:</th>             <td>Least Squares</td>  <th>  F-statistic:       </th> <td>   1616.</td> \n",
       "</tr>\n",
       "<tr>\n",
       "  <th>Date:</th>             <td>Sun, 01 May 2022</td> <th>  Prob (F-statistic):</th> <td>4.94e-324</td>\n",
       "</tr>\n",
       "<tr>\n",
       "  <th>Time:</th>                 <td>20:21:46</td>     <th>  Log-Likelihood:    </th> <td> -56940.</td> \n",
       "</tr>\n",
       "<tr>\n",
       "  <th>No. Observations:</th>      <td>  8708</td>      <th>  AIC:               </th> <td>1.139e+05</td>\n",
       "</tr>\n",
       "<tr>\n",
       "  <th>Df Residuals:</th>          <td>  8706</td>      <th>  BIC:               </th> <td>1.139e+05</td>\n",
       "</tr>\n",
       "<tr>\n",
       "  <th>Df Model:</th>              <td>     1</td>      <th>                     </th>     <td> </td>    \n",
       "</tr>\n",
       "<tr>\n",
       "  <th>Covariance Type:</th>      <td>nonrobust</td>    <th>                     </th>     <td> </td>    \n",
       "</tr>\n",
       "</table>\n",
       "<table class=\"simpletable\">\n",
       "<tr>\n",
       "    <td></td>       <th>coef</th>     <th>std err</th>      <th>t</th>      <th>P>|t|</th>  <th>[0.025</th>    <th>0.975]</th>  \n",
       "</tr>\n",
       "<tr>\n",
       "  <th>const</th> <td>   72.5255</td> <td>    3.495</td> <td>   20.750</td> <td> 0.000</td> <td>   65.674</td> <td>   79.377</td>\n",
       "</tr>\n",
       "<tr>\n",
       "  <th>hour</th>  <td>   10.4435</td> <td>    0.260</td> <td>   40.202</td> <td> 0.000</td> <td>    9.934</td> <td>   10.953</td>\n",
       "</tr>\n",
       "</table>\n",
       "<table class=\"simpletable\">\n",
       "<tr>\n",
       "  <th>Omnibus:</th>       <td>1812.285</td> <th>  Durbin-Watson:     </th> <td>   2.012</td>\n",
       "</tr>\n",
       "<tr>\n",
       "  <th>Prob(Omnibus):</th>  <td> 0.000</td>  <th>  Jarque-Bera (JB):  </th> <td>3505.528</td>\n",
       "</tr>\n",
       "<tr>\n",
       "  <th>Skew:</th>           <td> 1.268</td>  <th>  Prob(JB):          </th> <td>    0.00</td>\n",
       "</tr>\n",
       "<tr>\n",
       "  <th>Kurtosis:</th>       <td> 4.796</td>  <th>  Cond. No.          </th> <td>    26.3</td>\n",
       "</tr>\n",
       "</table><br/><br/>Notes:<br/>[1] Standard Errors assume that the covariance matrix of the errors is correctly specified."
      ],
      "text/plain": [
       "<class 'statsmodels.iolib.summary.Summary'>\n",
       "\"\"\"\n",
       "                            OLS Regression Results                            \n",
       "==============================================================================\n",
       "Dep. Variable:                  count   R-squared:                       0.157\n",
       "Model:                            OLS   Adj. R-squared:                  0.156\n",
       "Method:                 Least Squares   F-statistic:                     1616.\n",
       "Date:                Sun, 01 May 2022   Prob (F-statistic):          4.94e-324\n",
       "Time:                        20:21:46   Log-Likelihood:                -56940.\n",
       "No. Observations:                8708   AIC:                         1.139e+05\n",
       "Df Residuals:                    8706   BIC:                         1.139e+05\n",
       "Df Model:                           1                                         \n",
       "Covariance Type:            nonrobust                                         \n",
       "==============================================================================\n",
       "                 coef    std err          t      P>|t|      [0.025      0.975]\n",
       "------------------------------------------------------------------------------\n",
       "const         72.5255      3.495     20.750      0.000      65.674      79.377\n",
       "hour          10.4435      0.260     40.202      0.000       9.934      10.953\n",
       "==============================================================================\n",
       "Omnibus:                     1812.285   Durbin-Watson:                   2.012\n",
       "Prob(Omnibus):                  0.000   Jarque-Bera (JB):             3505.528\n",
       "Skew:                           1.268   Prob(JB):                         0.00\n",
       "Kurtosis:                       4.796   Cond. No.                         26.3\n",
       "==============================================================================\n",
       "\n",
       "Notes:\n",
       "[1] Standard Errors assume that the covariance matrix of the errors is correctly specified.\n",
       "\"\"\""
      ]
     },
     "execution_count": 44,
     "metadata": {},
     "output_type": "execute_result"
    }
   ],
   "source": [
    "# Performing a summary to list out all the different parameters of the regression line fitted\n",
    "lr.summary()"
   ]
  },
  {
   "cell_type": "code",
   "execution_count": 45,
   "id": "8b191e9e",
   "metadata": {
    "ExecuteTime": {
     "end_time": "2022-05-02T00:21:46.300985Z",
     "start_time": "2022-05-02T00:21:46.115887Z"
    }
   },
   "outputs": [
    {
     "data": {
      "image/png": "[encoded data removed]",
      "text/plain": [
       "<Figure size 432x288 with 1 Axes>"
      ]
     },
     "metadata": {
      "needs_background": "light"
     },
     "output_type": "display_data"
    }
   ],
   "source": [
    "# Visualizing the regression line\n",
    "plt.scatter(X1_train, y1_train)\n",
    "plt.plot(X1_train, 72.5255 + 10.4435*X1_train, 'r')\n",
    "plt.show()"
   ]
  },
  {
   "cell_type": "code",
   "execution_count": null,
   "id": "a20d2325",
   "metadata": {},
   "outputs": [],
   "source": []
  },
  {
   "cell_type": "code",
   "execution_count": null,
   "id": "ad8e44b2",
   "metadata": {},
   "outputs": [],
   "source": []
  },
  {
   "cell_type": "code",
   "execution_count": null,
   "id": "43a54c24",
   "metadata": {},
   "outputs": [],
   "source": []
  },
  {
   "cell_type": "code",
   "execution_count": null,
   "id": "05523bcd",
   "metadata": {},
   "outputs": [],
   "source": []
  },
  {
   "cell_type": "markdown",
   "id": "4bdfccc6",
   "metadata": {},
   "source": [
    "## The other one:"
   ]
  },
  {
   "cell_type": "code",
   "execution_count": 15,
   "id": "c7a6e006",
   "metadata": {
    "ExecuteTime": {
     "end_time": "2022-05-07T22:59:20.469622Z",
     "start_time": "2022-05-07T22:59:20.452490Z"
    }
   },
   "outputs": [],
   "source": [
    "feature_names = ['year', 'hour', 'season', 'holiday', 'workingday',\n",
    "                 'weather', 'temp', 'atemp', 'humidity', 'windspeed']\n",
    "\n",
    "# Assigning the data corresponding to features in feature_names\n",
    "X = Btrain[feature_names]\n",
    "\n",
    "# Assigning the data corresponding to features in feature_names\n",
    "Btest['year'] = Btest.datetime.dt.year\n",
    "Btest['hour'] = Btest.datetime.dt.hour\n",
    "\n",
    "X_test = Btest[feature_names]\n",
    "\n",
    "y = Btrain['count']"
   ]
  },
  {
   "cell_type": "code",
   "execution_count": 16,
   "id": "e7be02c2",
   "metadata": {
    "ExecuteTime": {
     "end_time": "2022-05-07T22:59:22.625299Z",
     "start_time": "2022-05-07T22:59:22.603358Z"
    }
   },
   "outputs": [],
   "source": [
    "X_train, X_val, y_train, y_val = train_test_split(X, y, test_size=0.3, random_state=42)\n"
   ]
  },
  {
   "cell_type": "code",
   "execution_count": 17,
   "id": "34e2630b",
   "metadata": {
    "ExecuteTime": {
     "end_time": "2022-05-07T22:59:25.093624Z",
     "start_time": "2022-05-07T22:59:25.083598Z"
    }
   },
   "outputs": [],
   "source": [
    "#Root Mean Squared Logarithmic Error\n",
    "\n",
    "from math import sqrt\n",
    "def RMSLE(y_pred , y_actual):\n",
    "    n = y_pred.size \n",
    "    RMSLE = sqrt(((np.log(y_pred+1)-np.log(y_actual+1))**2).sum()/n)\n",
    "    return RMSLE"
   ]
  },
  {
   "cell_type": "code",
   "execution_count": 18,
   "id": "e2594a3d",
   "metadata": {
    "ExecuteTime": {
     "end_time": "2022-05-07T22:59:28.521007Z",
     "start_time": "2022-05-07T22:59:28.445177Z"
    }
   },
   "outputs": [
    {
     "name": "stdout",
     "output_type": "stream",
     "text": [
      "Train score: 1.157796202346488\n",
      "validation score: 1.1474615432151656\n"
     ]
    },
    {
     "name": "stderr",
     "output_type": "stream",
     "text": [
      "<ipython-input-17-b2afeeaee2a6>:6: RuntimeWarning: invalid value encountered in log\n",
      "  RMSLE = sqrt(((np.log(y_pred+1)-np.log(y_actual+1))**2).sum()/n)\n"
     ]
    }
   ],
   "source": [
    "lr = LinearRegression().fit(X_train, y_train)\n",
    "\n",
    "train_pred = lr.predict(X_train)\n",
    "val_pred = lr.predict(X_val)\n",
    "\n",
    "train_score = RMSLE(train_pred, y_train)\n",
    "val_score = RMSLE(val_pred ,y_val)\n",
    "\n",
    "print('Train score:', train_score)\n",
    "print('validation score:', val_score)"
   ]
  },
  {
   "cell_type": "code",
   "execution_count": 26,
   "id": "e9e6b7e0",
   "metadata": {
    "ExecuteTime": {
     "end_time": "2022-05-07T23:02:53.133779Z",
     "start_time": "2022-05-07T23:02:53.114818Z"
    }
   },
   "outputs": [
    {
     "data": {
      "text/plain": [
       "array([-28.07358301, -22.65372471, -14.66155047, ..., 212.7054066 ,\n",
       "       231.66914388, 221.46017153])"
      ]
     },
     "execution_count": 26,
     "metadata": {},
     "output_type": "execute_result"
    }
   ],
   "source": [
    "lm = linear_model.LinearRegression()\n",
    "model = lm.fit(X_train, y_train)\n",
    "predictions = lm.predict(X_test)\n",
    "predictions"
   ]
  },
  {
   "cell_type": "code",
   "execution_count": 20,
   "id": "dc574ad8",
   "metadata": {
    "ExecuteTime": {
     "end_time": "2022-05-07T22:59:41.597809Z",
     "start_time": "2022-05-07T22:59:39.694749Z"
    }
   },
   "outputs": [
    {
     "name": "stdout",
     "output_type": "stream",
     "text": [
      "                                 OLS Regression Results                                \n",
      "=======================================================================================\n",
      "Dep. Variable:                  count   R-squared (uncentered):                   0.687\n",
      "Model:                            OLS   Adj. R-squared (uncentered):              0.686\n",
      "Method:                 Least Squares   F-statistic:                              1669.\n",
      "Date:                Sat, 07 May 2022   Prob (F-statistic):                        0.00\n",
      "Time:                        18:59:41   Log-Likelihood:                         -48869.\n",
      "No. Observations:                7620   AIC:                                  9.776e+04\n",
      "Df Residuals:                    7610   BIC:                                  9.783e+04\n",
      "Df Model:                          10                                                  \n",
      "Covariance Type:            nonrobust                                                  \n",
      "==============================================================================\n",
      "                 coef    std err          t      P>|t|      [0.025      0.975]\n",
      "------------------------------------------------------------------------------\n",
      "year           0.0163      0.005      3.134      0.002       0.006       0.026\n",
      "hour           7.7718      0.258     30.073      0.000       7.265       8.278\n",
      "season        23.1521      1.614     14.342      0.000      19.988      26.316\n",
      "holiday       -9.4301     10.396     -0.907      0.364     -29.809      10.949\n",
      "workingday     2.2002      3.769      0.584      0.559      -5.188       9.588\n",
      "weather       -0.8717      3.003     -0.290      0.772      -6.759       5.015\n",
      "temp           1.3858      1.265      1.096      0.273      -1.094       3.865\n",
      "atemp          5.0453      1.165      4.332      0.000       2.762       7.328\n",
      "humidity      -2.2678      0.109    -20.792      0.000      -2.482      -2.054\n",
      "windspeed      0.3210      0.225      1.424      0.154      -0.121       0.763\n",
      "==============================================================================\n",
      "Omnibus:                     1820.628   Durbin-Watson:                   2.006\n",
      "Prob(Omnibus):                  0.000   Jarque-Bera (JB):             4052.098\n",
      "Skew:                           1.366   Prob(JB):                         0.00\n",
      "Kurtosis:                       5.303   Cond. No.                     1.24e+04\n",
      "==============================================================================\n",
      "\n",
      "Notes:\n",
      "[1] R² is computed without centering (uncentered) since the model does not contain a constant.\n",
      "[2] Standard Errors assume that the covariance matrix of the errors is correctly specified.\n",
      "[3] The condition number is large, 1.24e+04. This might indicate that there are\n",
      "strong multicollinearity or other numerical problems.\n"
     ]
    }
   ],
   "source": [
    "import statsmodels.api as sm\n",
    "\n",
    "mod = sm.OLS(y_train, X_train)\n",
    "\n",
    "res = mod.fit()\n",
    "\n",
    "print(res.summary())"
   ]
  },
  {
   "cell_type": "code",
   "execution_count": null,
   "id": "5bd4a245",
   "metadata": {},
   "outputs": [],
   "source": []
  },
  {
   "cell_type": "markdown",
   "id": "dbfd4dfb",
   "metadata": {},
   "source": [
    "# Let's remove the unecessary variables from Regression:\n"
   ]
  },
  {
   "cell_type": "code",
   "execution_count": null,
   "id": "4bc626b3",
   "metadata": {},
   "outputs": [],
   "source": [
    "#Uncessary variables = One with high p-value\n",
    "# Such as - working day, weather, holiday"
   ]
  },
  {
   "cell_type": "code",
   "execution_count": null,
   "id": "4f94c9cf",
   "metadata": {},
   "outputs": [],
   "source": [
    "\n",
    "mod = sm.OLS(y_train, X_train)\n",
    "\n",
    "res = mod.fit()\n",
    "\n",
    "print(res.summary())"
   ]
  },
  {
   "cell_type": "code",
   "execution_count": 27,
   "id": "ecaa490c",
   "metadata": {
    "ExecuteTime": {
     "end_time": "2022-05-07T23:03:50.062779Z",
     "start_time": "2022-05-07T23:03:50.046355Z"
    }
   },
   "outputs": [],
   "source": [
    "feature_names = ['year', 'hour', 'season', 'temp', 'atemp', 'humidity', 'windspeed']\n",
    "\n",
    "# Assigning the data corresponding to features in feature_names\n",
    "X = Btrain[feature_names]\n",
    "\n",
    "# Assigning the data corresponding to features in feature_names\n",
    "Btest['year'] = Btest.datetime.dt.year\n",
    "Btest['hour'] = Btest.datetime.dt.hour\n",
    "\n",
    "X_test = Btest[feature_names]\n",
    "\n",
    "y = Btrain['count']"
   ]
  },
  {
   "cell_type": "code",
   "execution_count": 28,
   "id": "ebce19df",
   "metadata": {
    "ExecuteTime": {
     "end_time": "2022-05-07T23:04:01.030863Z",
     "start_time": "2022-05-07T23:04:01.020072Z"
    }
   },
   "outputs": [],
   "source": [
    "X_train, X_val, y_train, y_val = train_test_split(X, y, test_size=0.3, random_state=42)\n"
   ]
  },
  {
   "cell_type": "code",
   "execution_count": 29,
   "id": "be0a0856",
   "metadata": {
    "ExecuteTime": {
     "end_time": "2022-05-07T23:04:14.688927Z",
     "start_time": "2022-05-07T23:04:14.676140Z"
    }
   },
   "outputs": [],
   "source": [
    "from math import sqrt\n",
    "def RMSLE(y_pred , y_actual):\n",
    "    n = y_pred.size \n",
    "    RMSLE = sqrt(((np.log(y_pred+1)-np.log(y_actual+1))**2).sum()/n)\n",
    "    return RMSLE"
   ]
  },
  {
   "cell_type": "code",
   "execution_count": 30,
   "id": "f77a04cc",
   "metadata": {
    "ExecuteTime": {
     "end_time": "2022-05-07T23:04:24.258178Z",
     "start_time": "2022-05-07T23:04:24.237067Z"
    }
   },
   "outputs": [
    {
     "name": "stdout",
     "output_type": "stream",
     "text": [
      "Train score: 1.1529900824634618\n",
      "validation score: 1.1463442078003712\n"
     ]
    },
    {
     "name": "stderr",
     "output_type": "stream",
     "text": [
      "<ipython-input-29-b0cfd2f4a332>:4: RuntimeWarning: invalid value encountered in log\n",
      "  RMSLE = sqrt(((np.log(y_pred+1)-np.log(y_actual+1))**2).sum()/n)\n"
     ]
    }
   ],
   "source": [
    "lr = LinearRegression().fit(X_train, y_train)\n",
    "\n",
    "train_pred = lr.predict(X_train)\n",
    "val_pred = lr.predict(X_val)\n",
    "\n",
    "train_score = RMSLE(train_pred, y_train)\n",
    "val_score = RMSLE(val_pred ,y_val)\n",
    "\n",
    "print('Train score:', train_score)\n",
    "print('validation score:', val_score)"
   ]
  },
  {
   "cell_type": "code",
   "execution_count": 31,
   "id": "aee57f03",
   "metadata": {
    "ExecuteTime": {
     "end_time": "2022-05-07T23:04:48.126585Z",
     "start_time": "2022-05-07T23:04:48.096470Z"
    }
   },
   "outputs": [
    {
     "name": "stdout",
     "output_type": "stream",
     "text": [
      "                                 OLS Regression Results                                \n",
      "=======================================================================================\n",
      "Dep. Variable:                  count   R-squared (uncentered):                   0.687\n",
      "Model:                            OLS   Adj. R-squared (uncentered):              0.687\n",
      "Method:                 Least Squares   F-statistic:                              2385.\n",
      "Date:                Sat, 07 May 2022   Prob (F-statistic):                        0.00\n",
      "Time:                        19:04:48   Log-Likelihood:                         -48870.\n",
      "No. Observations:                7620   AIC:                                  9.775e+04\n",
      "Df Residuals:                    7613   BIC:                                  9.780e+04\n",
      "Df Model:                           7                                                  \n",
      "Covariance Type:            nonrobust                                                  \n",
      "==============================================================================\n",
      "                 coef    std err          t      P>|t|      [0.025      0.975]\n",
      "------------------------------------------------------------------------------\n",
      "year           0.0167      0.005      3.339      0.001       0.007       0.027\n",
      "hour           7.7644      0.257     30.196      0.000       7.260       8.268\n",
      "season        23.1303      1.610     14.364      0.000      19.974      26.287\n",
      "temp           1.3590      1.263      1.076      0.282      -1.116       3.834\n",
      "atemp          5.0752      1.163      4.366      0.000       2.796       7.354\n",
      "humidity      -2.2814      0.098    -23.344      0.000      -2.473      -2.090\n",
      "windspeed      0.3106      0.223      1.391      0.164      -0.127       0.748\n",
      "==============================================================================\n",
      "Omnibus:                     1832.994   Durbin-Watson:                   2.006\n",
      "Prob(Omnibus):                  0.000   Jarque-Bera (JB):             4106.491\n",
      "Skew:                           1.371   Prob(JB):                         0.00\n",
      "Kurtosis:                       5.326   Cond. No.                     2.04e+03\n",
      "==============================================================================\n",
      "\n",
      "Notes:\n",
      "[1] R² is computed without centering (uncentered) since the model does not contain a constant.\n",
      "[2] Standard Errors assume that the covariance matrix of the errors is correctly specified.\n",
      "[3] The condition number is large, 2.04e+03. This might indicate that there are\n",
      "strong multicollinearity or other numerical problems.\n"
     ]
    }
   ],
   "source": [
    "mod = sm.OLS(y_train, X_train)\n",
    "\n",
    "res = mod.fit()\n",
    "\n",
    "print(res.summary())"
   ]
  },
  {
   "cell_type": "code",
   "execution_count": null,
   "id": "8395e8d6",
   "metadata": {},
   "outputs": [],
   "source": []
  },
  {
   "cell_type": "code",
   "execution_count": null,
   "id": "f237415d",
   "metadata": {},
   "outputs": [],
   "source": []
  }
 ],
 "metadata": {
  "kernelspec": {
   "display_name": "Python 3",
   "language": "python",
   "name": "python3"
  },
  "language_info": {
   "codemirror_mode": {
    "name": "ipython",
    "version": 3
   },
   "file_extension": ".py",
   "mimetype": "text/x-python",
   "name": "python",
   "nbconvert_exporter": "python",
   "pygments_lexer": "ipython3",
   "version": "3.8.8"
  }
 },
 "nbformat": 4,
 "nbformat_minor": 5
}
